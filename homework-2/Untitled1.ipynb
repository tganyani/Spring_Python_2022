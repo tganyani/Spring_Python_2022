{
 "cells": [
  {
   "cell_type": "code",
   "execution_count": 2,
   "metadata": {},
   "outputs": [],
   "source": [
    "import random as rn"
   ]
  },
  {
   "cell_type": "code",
   "execution_count": 3,
   "metadata": {},
   "outputs": [],
   "source": [
    "data ={\n",
    "    \"greet\":['fine!,How are you',\"hello how is it\",'Good day','Good Afternoon','Добры день',\"Здравстйвут !\",\"Привет\",\"Как дела\"],\n",
    "    \"help\":\"hi! ,To use this app you need to log in with user name of your choice or leave default to unknown press log in button , then type your message in the input and click the send icon\",\n",
    "    \"bye\":['Good bye, we hope you enjoyed the appp,','До свидания, мы надеемся, что вам понравилось приложение']\n",
    "}"
   ]
  },
  {
   "cell_type": "code",
   "execution_count": null,
   "metadata": {},
   "outputs": [],
   "source": [
    "\n",
    "def chatBot(chat):\n",
    "    if chat=='greet':\n",
    "        return rn.choice(data['greet'])\n",
    "    elif chat=='help':\n",
    "        return data['help']\n",
    "    elif chat=='bye':\n",
    "        return rn.choice(data['bye'])\n",
    "    else:\n",
    "        return \" !OOPs ,You need to enter only (help,greet,bye)\""
   ]
  },
  {
   "cell_type": "code",
   "execution_count": null,
   "metadata": {},
   "outputs": [],
   "source": [
    "while True:\n",
    "    c = input('Enter chat: ')\n",
    "    print(chatBot(c))"
   ]
  },
  {
   "cell_type": "code",
   "execution_count": null,
   "metadata": {},
   "outputs": [],
   "source": []
  },
  {
   "cell_type": "code",
   "execution_count": null,
   "metadata": {},
   "outputs": [],
   "source": []
  }
 ],
 "metadata": {
  "kernelspec": {
   "display_name": "Python 3",
   "language": "python",
   "name": "python3"
  },
  "language_info": {
   "codemirror_mode": {
    "name": "ipython",
    "version": 3
   },
   "file_extension": ".py",
   "mimetype": "text/x-python",
   "name": "python",
   "nbconvert_exporter": "python",
   "pygments_lexer": "ipython3",
   "version": "3.7.3"
  }
 },
 "nbformat": 4,
 "nbformat_minor": 2
}
